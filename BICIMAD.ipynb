{
 "cells": [
  {
   "cell_type": "markdown",
   "id": "f3925b66-de49-40f8-a677-ec60a7344d11",
   "metadata": {
    "jupyter": {
     "outputs_hidden": true
    },
    "tags": []
   },
   "source": [
    "# PRÁCTICA SPARK: INFLUENCIA DEL COVID-19 EN BICIMAD\n",
    "## Arturo Precioso Garcelán, Lucía Navarro Martín y Clara Queipo Álvarez"
   ]
  },
  {
   "cell_type": "markdown",
   "id": "f4727402-f424-4fcb-946b-533ee7bd1d16",
   "metadata": {},
   "source": [
    "El objetivo de la presente práctica consiste en identificar las consecuencias del COVID-19 en el servicio de BICIMAD. Para ello analizaremos los datos del mes de junio de los años 2019 (periodo previo al COVID-19), 2020 (recién finalzado el confinamiento) y 2021 (año que todavía sufre los daños económicos sociales y eocnómicos de la pandemia pero que poco a poco se va imponiendo la \"normalidad\"). También analizaremos los datos del mes de diciembre antes y después del COVID-19. Para ello observaremos el mes de diciembre de los años 2018 (el conjunto de datos de 2019 tiene variables ligeramente diferentes y el análisis no podrá ser tan exhaustivo) y 2020. \n",
    "\n",
    "Los conjuntos de datos han sido extraídos de la página web del Ayuntamiento de Madrid https://opendata.emtmadrid.es/Datos-estaticos/Datos-generales-(1). Hemos utilizado los conjuntos de datos completos los cuales están subidos a cqueipo@picluster02.mat.ucm.es junto a este archivo y al programa .py."
   ]
  },
  {
   "cell_type": "markdown",
   "id": "70460b87-2d34-48a6-afc8-135beca37a7d",
   "metadata": {
    "jp-MarkdownHeadingCollapsed": true,
    "tags": []
   },
   "source": [
    "Los datos de la base de datos presentan las siguientes variables:\n",
    "\n",
    "- **id_**: identificador del movimiento\n",
    "- **ageRange**: Número que indica el rango de edad del usuario. Sus posibles valores son:\n",
    "        - 0: No se ha podido determinar el rango de edad del usuario\n",
    "        - 1: El usuario tiene entre 0 y 16 años\n",
    "        - 2: El usuario tiene entre 17 y 18 años\n",
    "        - 3: El usuario tiene entre 19 y 26 años\n",
    "        - 4: El usuario tiene entre 27 y 40 años\n",
    "        - 5: El usuario tiene entre 41 y 65 años\n",
    "        - 6: El usuario tiene 66 años o más\n",
    "- **idplug_base**: Número de la base en la que se engancha la bicicleta.\n",
    "- **idplug_station**: Número de la estación en la que se engancha la bicicleta.\n",
    "- **idunplug_base**: Número de la base de la que se desengancha la bicicleta.\n",
    "- **idunplug_station**: Número de la estación de la que se desengancha la bicicleta.\n",
    "- **travel_time**: Tiempo total en segundos, entre el desenganche y el enganche de la bicicleta.\n",
    "- **unplug_hourTime**: Franja horaria en la que se realiza el desenganche de la bicicleta. (Por cuestiones de anonimato, se facilita la hora de inicio del movimiento, sin la información de minutos y segundos. Todos los movimientos iniciados durante la misma hora, tendrán el mismo dato de inicio.)\n",
    "- **user_day_code**: Código del usuario. (Para una misma fecha, todos los movimientos de un mismo usuario, tendrán el mismo código, con el fin de poder realizar estudios estadísticos de las tendencias diarias de los usuarios.)\n",
    "- **user_type**: Número que indica el tipo de usuario que ha realizado el movimiento. Sus posibles valores son:\n",
    "        - 0: No se ha podido determinar el tipo de usuario\n",
    "        - 1: Usuario anual (poseedor de un pase anual)\n",
    "        - 2: Usuario ocasional (perfil turista)\n",
    "        - 3: Trabajador de la empresa\n",
    "        - 6: Usuario Ocasional (no Abonado)\n",
    "        - 7: Usuario de BiciMAD GO.\n",
    "- **zip_code**: Texto que indica el código postal del usuario que ha realizado el movimiento."
   ]
  },
  {
   "cell_type": "code",
   "execution_count": 96,
   "id": "a905badc-1405-4322-9d87-96bcfce336b6",
   "metadata": {},
   "outputs": [],
   "source": [
    "from pyspark.sql import SparkSession\n",
    "spark = SparkSession.builder.getOrCreate()\n",
    "import json\n",
    "from pprint import pprint"
   ]
  },
  {
   "cell_type": "markdown",
   "id": "1ca86a60-c1ae-468a-b8fe-093d5ffcb1ce",
   "metadata": {},
   "source": [
    "En primer lugar vamos a analizar el uso del servicio BICIMAD en el mes de junio de los años 2019 y 2020. \n",
    "Nuestro objetivo es ver los impactos del COVID-19 en el servicio de BICIMAD. Posteriormente analizaremos las cifras del año 2021."
   ]
  },
  {
   "cell_type": "code",
   "execution_count": 97,
   "id": "c965729c-6d5f-415e-9ae2-71582f90f29e",
   "metadata": {},
   "outputs": [
    {
     "name": "stderr",
     "output_type": "stream",
     "text": [
      "                                                                                \r"
     ]
    },
    {
     "name": "stdout",
     "output_type": "stream",
     "text": [
      "- JUNIO 2019\n",
      "+---------------+--------------------+--------+-----------+--------------+-------------+----------------+-----+-----------+--------------------+--------------------+---------+--------+\n",
      "|_corrupt_record|                 _id|ageRange|idplug_base|idplug_station|idunplug_base|idunplug_station|track|travel_time|     unplug_hourTime|       user_day_code|user_type|zip_code|\n",
      "+---------------+--------------------+--------+-----------+--------------+-------------+----------------+-----+-----------+--------------------+--------------------+---------+--------+\n",
      "|           null|{5cf83b752f3843a0...|       0|         21|            66|            8|              90| null|        219|{2019-06-01T00:00...|e4d55deb9ac172a8d...|        1|        |\n",
      "|           null|{5cf83b762f3843a0...|       4|         19|           136|           19|              71| null|        359|{2019-06-01T00:00...|8a0c4123e924a50a9...|        1|   28039|\n",
      "|           null|{5cf83b762f3843a0...|       4|         17|            38|            7|              39| null|        375|{2019-06-01T00:00...|a6a9c1f74a6849600...|        1|   28013|\n",
      "|           null|{5cf83b762f3843a0...|       5|          4|            90|           21|              66| null|        264|{2019-06-01T00:00...|5706c0bd494acc022...|        1|   28009|\n",
      "|           null|{5cf83b762f3843a0...|       4|          3|           166|           13|             152| null|        367|{2019-06-01T00:00...|eb1b6d32bd4add5d5...|        1|   28006|\n",
      "|           null|{5cf83b762f3843a0...|       5|         14|            53|            4|              55| null|        174|{2019-06-01T00:00...|c2905f6038aa9523d...|        1|   28907|\n",
      "|           null|{5cf83b762f3843a0...|       0|          2|           129|            6|             133| null|        308|{2019-06-01T00:00...|f94420744ea060ac4...|        1|        |\n",
      "|           null|{5cf83b762f3843a0...|       4|         21|           169|            3|             153| null|        462|{2019-06-01T00:00...|e75471af2ea032a32...|        1|   28003|\n",
      "|           null|{5cf83b762f3843a0...|       0|         24|           129|           14|              44| null|        482|{2019-06-01T00:00...|c0d73ee753773a3bf...|        1|        |\n",
      "|           null|{5cf83b762f3843a0...|       4|         11|           133|           21|              85| null|        480|{2019-06-01T00:00...|47ecd557f21ca7aee...|        1|   28004|\n",
      "|           null|{5cf83b762f3843a0...|       5|          2|            83|           18|              31| null|        546|{2019-06-01T00:00...|87ccc3f59b45ef261...|        1|   28007|\n",
      "|           null|{5cf83b762f3843a0...|       0|          7|            53|           15|              38| null|        519|{2019-06-01T00:00...|05bd8e0842cbfadb8...|        1|        |\n",
      "|           null|{5cf83b762f3843a0...|       4|         24|            13|           17|             118| null|        374|{2019-06-01T00:00...|812870450df33ac5c...|        1|   39316|\n",
      "|           null|{5cf83b762f3843a0...|       4|         13|            10|            9|              27| null|        188|{2019-06-01T00:00...|c828f824a86378bf0...|        1|   28012|\n",
      "|           null|{5cf83b762f3843a0...|       4|          2|            74|           20|              90| null|        133|{2019-06-01T00:00...|538fc94c0d298f7ee...|        1|   28045|\n",
      "|           null|{5cf83b762f3843a0...|       0|         17|            54|           21|             100| null|        514|{2019-06-01T00:00...|53a9f79ec4c6d60c2...|        1|        |\n",
      "|           null|{5cf83b762f3843a0...|       4|         12|            83|            5|              67| null|        517|{2019-06-01T00:00...|b27886fecd2db0f3c...|        1|   28008|\n",
      "|           null|{5cf83b762f3843a0...|       4|          5|            83|            3|              67| null|        525|{2019-06-01T00:00...|eee03ef92db2fe559...|        1|   28019|\n",
      "|           null|{5cf83b762f3843a0...|       0|          9|           163|            5|              63| null|        351|{2019-06-01T00:00...|b61ef9ebd0342c431...|        1|        |\n",
      "|           null|{5cf83b762f3843a0...|       0|         22|            84|            7|              42| null|        483|{2019-06-01T00:00...|01bf069d0732b2b01...|        1|        |\n",
      "+---------------+--------------------+--------+-----------+--------------+-------------+----------------+-----+-----------+--------------------+--------------------+---------+--------+\n",
      "only showing top 20 rows\n",
      "\n"
     ]
    },
    {
     "data": {
      "text/plain": [
       "450811"
      ]
     },
     "execution_count": 97,
     "metadata": {},
     "output_type": "execute_result"
    }
   ],
   "source": [
    "junio2019 = spark.read.json('201906.json')\n",
    "print ('- JUNIO 2019')\n",
    "junio2019.show()\n",
    "junio2019.count()"
   ]
  },
  {
   "cell_type": "code",
   "execution_count": 166,
   "id": "e85af2ef-d123-413c-a331-ed115b532e45",
   "metadata": {},
   "outputs": [
    {
     "name": "stdout",
     "output_type": "stream",
     "text": [
      "- JUNIO 2020\n",
      "+--------------------+--------+-----------+--------------+-------------+----------------+-----------+--------------------+--------------------+---------+--------+\n",
      "|                 _id|ageRange|idplug_base|idplug_station|idunplug_base|idunplug_station|travel_time|     unplug_hourTime|       user_day_code|user_type|zip_code|\n",
      "+--------------------+--------+-----------+--------------+-------------+----------------+-----------+--------------------+--------------------+---------+--------+\n",
      "|{5eec97ff56e7da53...|       0|          4|            91|            2|             131|        674|2020-06-01T00:00:00Z|b1d54ac58fd5e41ac...|        1|        |\n",
      "|{5eec97ff56e7da53...|       0|          9|           158|            1|               5|        426|2020-06-01T00:00:00Z|da5166ba006c7a78e...|        1|        |\n",
      "|{5eec97ff56e7da53...|       0|         18|           129|            8|               5|        931|2020-06-01T00:00:00Z|9fcc3cb6297cd2f9a...|        1|        |\n",
      "|{5eec97ff56e7da53...|       5|         23|           132|           20|             174|        281|2020-06-01T00:00:00Z|654c6ba1bfa3b896a...|        1|   28009|\n",
      "|{5eec97ff56e7da53...|       0|          7|           129|           22|               5|       1115|2020-06-01T00:00:00Z|872c63a3774d9e94f...|        1|        |\n",
      "|{5eec97ff56e7da53...|       0|          4|            51|            7|             128|        518|2020-06-01T00:00:00Z|ca3b0ab1d483176cd...|        1|        |\n",
      "|{5eec97ff56e7da53...|       4|          8|            75|           19|             213|        996|2020-06-01T00:00:00Z|aa9237cf1d20be26f...|        1|   28015|\n",
      "|{5eec97ff56e7da53...|       0|          1|           152|           27|              90|       1003|2020-06-01T00:00:00Z|9e783a5b027682570...|        1|        |\n",
      "|{5eec97ff56e7da53...|       0|         21|           204|            4|             212|        612|2020-06-01T00:00:00Z|6326ce56c999a4fff...|        1|        |\n",
      "|{5eec97ff56e7da53...|       0|         23|            50|           24|             129|        170|2020-06-01T00:00:00Z|ba4dcbb00ccb6772b...|        1|        |\n",
      "|{5eec97ff56e7da53...|       0|         19|           214|            3|             154|        671|2020-06-01T00:00:00Z|027a408f3157dd0e8...|        1|        |\n",
      "|{5eec97ff56e7da53...|       3|         23|            83|            2|             219|        661|2020-06-01T00:00:00Z|b9a375dedc1c9b9df...|        1|   28007|\n",
      "|{5eec97ff56e7da53...|       0|          6|           135|            2|             100|        996|2020-06-01T00:00:00Z|0338fd8e6db8d6c73...|        1|        |\n",
      "|{5eec97ff56e7da53...|       0|          9|           175|            8|              51|        508|2020-06-01T00:00:00Z|03af52de111694f5f...|        1|        |\n",
      "|{5eec97ff56e7da53...|       4|          3|             7|           20|             177|       1118|2020-06-01T00:00:00Z|bdcd71c47d1a40ab5...|        1|   28046|\n",
      "|{5eec97ff56e7da53...|       0|         18|           195|           23|             137|        913|2020-06-01T00:00:00Z|c5e751a16267a1e37...|        1|        |\n",
      "|{5eec97ff56e7da53...|       0|          8|           128|           16|             175|        736|2020-06-01T00:00:00Z|5a28865fcfd4d4e67...|        1|        |\n",
      "|{5eec97ff56e7da53...|       5|          3|           196|            2|              53|        836|2020-06-01T00:00:00Z|70e9f61dda0dbf5f0...|        1|   28017|\n",
      "|{5eec97ff56e7da53...|       3|          3|           154|           12|             140|        328|2020-06-01T00:00:00Z|093d9ffff37e75161...|        1|   28012|\n",
      "|{5eec97ff56e7da53...|       0|          3|            43|            3|              43|        673|2020-06-01T00:00:00Z|6205fcb4ab14f6372...|        1|        |\n",
      "+--------------------+--------+-----------+--------------+-------------+----------------+-----------+--------------------+--------------------+---------+--------+\n",
      "only showing top 20 rows\n",
      "\n"
     ]
    },
    {
     "data": {
      "text/plain": [
       "210555"
      ]
     },
     "execution_count": 166,
     "metadata": {},
     "output_type": "execute_result"
    }
   ],
   "source": [
    "junio2020 = spark.read.json('202006.json')\n",
    "print ('- JUNIO 2020')\n",
    "junio2020.show()\n",
    "junio2020.count()"
   ]
  },
  {
   "cell_type": "code",
   "execution_count": 99,
   "id": "c250b713-a128-4ab4-8309-df42a3d647fc",
   "metadata": {},
   "outputs": [
    {
     "name": "stdout",
     "output_type": "stream",
     "text": [
      "Número de viajes en 2019: 450811\n",
      "Número de viajes en 2020: 210555\n"
     ]
    }
   ],
   "source": [
    "print ('Número de viajes en 2019: ' + str(junio2019.count()))\n",
    "print ('Número de viajes en 2020: ' + str(junio2020.count()))"
   ]
  },
  {
   "cell_type": "markdown",
   "id": "e974d6e8-5365-4f30-9da7-84de993241b3",
   "metadata": {},
   "source": [
    "Observamos que el número de viajes en 2019 es más del doble de 2020. Esto puede deberse a varios factores que observaremos más adelante, entre ellos\n",
    "las restricciones en relación a los turistas que existía en junio de 2020 así como el predominio del teletrabajo y el temor a salir a la calle por miedo a contagiarse.\n",
    "A continuación vamos a observar los distintos grupos en los que se dividen a los usuarios."
   ]
  },
  {
   "cell_type": "code",
   "execution_count": 100,
   "id": "b5b53f7e-9163-4211-96ae-92793f0ac6e9",
   "metadata": {},
   "outputs": [
    {
     "name": "stdout",
     "output_type": "stream",
     "text": [
      "- JUNIO 2019:\n",
      "+---------+------+\n",
      "|user_type| count|\n",
      "+---------+------+\n",
      "|     null| 22865|\n",
      "|        1|397252|\n",
      "|        3| 25595|\n",
      "|        2|  5099|\n",
      "+---------+------+\n",
      "\n",
      "- JUNIO 2020:\n",
      "+---------+------+\n",
      "|user_type| count|\n",
      "+---------+------+\n",
      "|        1|198186|\n",
      "|        3| 10445|\n",
      "|        2|  1924|\n",
      "+---------+------+\n",
      "\n"
     ]
    }
   ],
   "source": [
    "print ('- JUNIO 2019:')\n",
    "junio2019.groupBy('user_type').count().show()\n",
    "print ('- JUNIO 2020:')\n",
    "junio2020.groupBy('user_type').count().show()"
   ]
  },
  {
   "cell_type": "markdown",
   "id": "3023a9b2-c76b-4df4-b53d-380310e02811",
   "metadata": {},
   "source": [
    "A la vista de los resultados obtenidos afirmamos que el tipo de usuario más frecuente en el servicio BICIMAD es el número 1, es decir, el abonado.\n",
    "Observamos que el número de usuarios anuales es bastante mayor en junio de 2019. El grupo \"null\" que aparece en 2019 es indeterminado, es decir, la recogida de datos ha podido sufrir algún tipo de problema y desconocemos si son abonados, turistas o trabajadores de empresa. \n",
    "El número de usuarios \"turista\" es bastante superior en el año 2019. Esto es lógico puesto que en 2020, como se ha expresado antes, no se podía viajar entre países y el turismo tan solo era nacional (algunas comunidades autónomas también restringieron moviminetos). En 2019 el número de usuarios \"trabajador de empresa\" también superó al de 2020 puesto que se impuso el teletrabajo y muchos empleados tuvieron que ir al ERTE."
   ]
  },
  {
   "cell_type": "code",
   "execution_count": 101,
   "id": "d2d33923-61de-4220-9516-37c3002699d0",
   "metadata": {},
   "outputs": [
    {
     "name": "stdout",
     "output_type": "stream",
     "text": [
      "- JUNIO 2019:\n",
      "+--------+------+\n",
      "|ageRange| count|\n",
      "+--------+------+\n",
      "|       0|189919|\n",
      "|    null| 22865|\n",
      "|       6|  2274|\n",
      "|       5| 89417|\n",
      "|       1|  3501|\n",
      "|       3| 22642|\n",
      "|       2|  1822|\n",
      "|       4|118371|\n",
      "+--------+------+\n",
      "\n",
      "- JUNIO 2020:\n",
      "+--------+------+\n",
      "|ageRange| count|\n",
      "+--------+------+\n",
      "|       0|121486|\n",
      "|       6|  1287|\n",
      "|       5| 34958|\n",
      "|       1|  1750|\n",
      "|       3|  8328|\n",
      "|       2|   893|\n",
      "|       4| 41853|\n",
      "+--------+------+\n",
      "\n"
     ]
    }
   ],
   "source": [
    "print ('- JUNIO 2019:')\n",
    "junio2019.groupBy('ageRange').count().show()\n",
    "print ('- JUNIO 2020:')\n",
    "junio2020.groupBy('ageRange').count().show()"
   ]
  },
  {
   "cell_type": "code",
   "execution_count": null,
   "id": "909173a5-086c-48b3-ad43-e045821679eb",
   "metadata": {},
   "outputs": [],
   "source": [
    "Vemos que en ambos años lo que predomina es el grupo 0 (no se ha podido determinar el grupo de edad) seguido del grupo 4 (entre 27 y 40 años)."
   ]
  },
  {
   "cell_type": "code",
   "execution_count": null,
   "id": "9e763f93-d62f-4b77-9504-70fbb881dde8",
   "metadata": {},
   "outputs": [],
   "source": [
    "Ahora vamos a analizar el número de movimientos en las estaciones"
   ]
  },
  {
   "cell_type": "code",
   "execution_count": 102,
   "id": "07b0f06c-e987-4b43-b4e8-b8e476a9f217",
   "metadata": {},
   "outputs": [],
   "source": [
    "idplug2019 = junio2019.groupBy('idplug_station').count()\n",
    "idplug2020 = junio2020.groupBy('idplug_station').count()"
   ]
  },
  {
   "cell_type": "code",
   "execution_count": 106,
   "id": "0072bd13-7813-4d57-8351-7b96b74c1dad",
   "metadata": {},
   "outputs": [
    {
     "name": "stdout",
     "output_type": "stream",
     "text": [
      "- JUNIO 2019:\n",
      "+--------------+-----+\n",
      "|idplug_station|count|\n",
      "+--------------+-----+\n",
      "|           149| 5483|\n",
      "|            57| 5323|\n",
      "|          null|22865|\n",
      "|           175| 5773|\n",
      "|           163| 6495|\n",
      "|           135| 5975|\n",
      "|           129| 5993|\n",
      "|            90| 5148|\n",
      "+--------------+-----+\n",
      "\n",
      "- JUNIO 2021:\n",
      "+--------------+-----+\n",
      "|idplug_station|count|\n",
      "+--------------+-----+\n",
      "|            43| 2859|\n",
      "|           132| 2586|\n",
      "|           175| 3067|\n",
      "+--------------+-----+\n",
      "\n"
     ]
    }
   ],
   "source": [
    "print ('- JUNIO 2019:')\n",
    "idplug2019.filter(idplug2019['count']>5000).show()\n",
    "print ('- JUNIO 2021:')\n",
    "idplug2020.filter(idplug2020['count']>2500).show()"
   ]
  },
  {
   "cell_type": "markdown",
   "id": "5d307e45-4852-4685-a0ef-295f81894e17",
   "metadata": {},
   "source": [
    "Las estaciones en las que más se engachan bicicletas en **JUNIO de 2019** son:\n",
    "- 175: Calle Jaime el Conquistador, 30\n",
    "- 163: Paseo de la Esperanza, 83\n",
    "- 135: Plaza de San Juan de la Cruz\n",
    "\n",
    "Algunas de las estaciones en las que más se engachan bicicletas en **JUNIO de 2020** son:\n",
    "- 43: Calle de Lavapiés, 36\n",
    "- 132: Calle de Santa Engracia, 168\n",
    "- 175: Calle Jaime el Conquistador, 30\n",
    "\n",
    "Vemos que tan solo la estación 175 coincide en ambos años."
   ]
  },
  {
   "cell_type": "code",
   "execution_count": 107,
   "id": "96e28c8c-bc5b-4c6e-b47c-b4bbc5ae15e2",
   "metadata": {},
   "outputs": [],
   "source": [
    "idunplug2019 = junio2019.groupBy('idunplug_station').count()\n",
    "idunplug2020 = junio2020.groupBy('idunplug_station').count()"
   ]
  },
  {
   "cell_type": "code",
   "execution_count": 111,
   "id": "8d5c176f-694c-42f0-b344-58409a5dd2a1",
   "metadata": {},
   "outputs": [
    {
     "name": "stdout",
     "output_type": "stream",
     "text": [
      "- JUNIO 2019:\n",
      "+----------------+-----+\n",
      "|idunplug_station|count|\n",
      "+----------------+-----+\n",
      "|            null|22865|\n",
      "|             175| 5708|\n",
      "|             163| 6454|\n",
      "|             135| 5790|\n",
      "|             129| 5921|\n",
      "+----------------+-----+\n",
      "\n",
      "- JUNIO 2021:\n",
      "+----------------+-----+\n",
      "|idunplug_station|count|\n",
      "+----------------+-----+\n",
      "|              43| 2824|\n",
      "|             132| 2576|\n",
      "|             175| 3102|\n",
      "+----------------+-----+\n",
      "\n"
     ]
    }
   ],
   "source": [
    "print ('- JUNIO 2019:')\n",
    "idunplug2019.filter(idunplug2019['count']>5500).show()\n",
    "print ('- JUNIO 2021:')\n",
    "idunplug2020.filter(idunplug2020['count']>2500).show()"
   ]
  },
  {
   "cell_type": "markdown",
   "id": "0b6c16e0-97cf-4643-bab8-0c83df73cd78",
   "metadata": {},
   "source": [
    "Las estaciones en las que más se desengachan bicicletas en **JUNIO de 2019** son:\n",
    "- 175: Calle Jaime el Conquistador, 30\n",
    "- 163: Paseo de la Esperanza, 83\n",
    "- 135: Plaza de San Juan de la Cruz\n",
    "\n",
    "Algunas de las estaciones en las que más se desengachan bicicletas en **JUNIO de 2020** son:\n",
    "- 43: Calle de Lavapiés, 36\n",
    "- 132: Calle de Santa Engracia, 168\n",
    "- 175: Calle Jaime el Conquistador, 30\n",
    "\n",
    "Las estaciones que más se desenganchan coinciden con las que más se enganchan. Vemos que tan solo la estación 175 coincide en ambos años. \n",
    "\n",
    "Afirmamos que las estaciones más utilizadas en junio de 2019 son 175 y 163 y en junio de 2020 son 43 y 175."
   ]
  },
  {
   "cell_type": "code",
   "execution_count": 115,
   "id": "8d516464-5b58-4041-9bc3-093e421f0a13",
   "metadata": {},
   "outputs": [
    {
     "name": "stdout",
     "output_type": "stream",
     "text": [
      "- JUNIO 2019:\n",
      "+--------------+-----+\n",
      "|idplug_station|count|\n",
      "+--------------+-----+\n",
      "|            28|  434|\n",
      "|          2008|    6|\n",
      "|           207|  339|\n",
      "|           183|  435|\n",
      "+--------------+-----+\n",
      "\n",
      "- JUNIO 2021:\n",
      "+--------------+-----+\n",
      "|idplug_station|count|\n",
      "+--------------+-----+\n",
      "|            28|  214|\n",
      "|           210|  304|\n",
      "|           151|  300|\n",
      "+--------------+-----+\n",
      "\n"
     ]
    }
   ],
   "source": [
    "print ('- JUNIO 2019:')\n",
    "idplug2019.filter(idplug2019['count']<500).show()\n",
    "print ('- JUNIO 2021:')\n",
    "idplug2020.filter(idplug2020['count']<330).show()"
   ]
  },
  {
   "cell_type": "markdown",
   "id": "c011b86a-21e2-4f0a-945f-172d70119178",
   "metadata": {},
   "source": [
    "Las estaciones en las que menos se enganchan en **JUNIO de 2019** son:\n",
    "- 207: Calle de las Azucenas,1  \n",
    "- 28: Calle de Alcalá, 26\n",
    "- 183: Calle de Hermosilla, 135\n",
    "\n",
    "Las estaciones en las que menos se enganchan en **JUNIO de 2020** son:\n",
    "- 210: Calle de las Tres Cruces, 135\n",
    "- 28: Calle de Alcalá, 26\n",
    "- 151: Calle de Orense, 10\n",
    "\n",
    "La estación 2008 no se encuentra en el archivo excel, ya que sólo tenemos 261 estaciones. A causa de esto, no podemos dar una ubicación exacta de dicha estación.\n",
    "Puede ser un error de recogida o transcripción de datos. Vemos que solo coincide la estación 28."
   ]
  },
  {
   "cell_type": "code",
   "execution_count": 120,
   "id": "5a77758c-3d48-4767-9ddc-3ca36e6e1705",
   "metadata": {},
   "outputs": [
    {
     "name": "stdout",
     "output_type": "stream",
     "text": [
      "- JUNIO 2019:\n",
      "+----------------+-----+\n",
      "|idunplug_station|count|\n",
      "+----------------+-----+\n",
      "|              28|  478|\n",
      "|            2008|    6|\n",
      "|             207|  296|\n",
      "|             183|  413|\n",
      "+----------------+-----+\n",
      "\n",
      "- JUNIO 2020:\n",
      "+----------------+-----+\n",
      "|idunplug_station|count|\n",
      "+----------------+-----+\n",
      "|              28|  220|\n",
      "|             210|  323|\n",
      "|             151|  299|\n",
      "+----------------+-----+\n",
      "\n"
     ]
    }
   ],
   "source": [
    "print ('- JUNIO 2019:')\n",
    "idunplug2019.filter(idunplug2019['count']<500).show()\n",
    "print ('- JUNIO 2020:')\n",
    "idunplug2020.filter(idunplug2020['count']<330).show()"
   ]
  },
  {
   "cell_type": "markdown",
   "id": "2d7f415d-3ead-4816-895a-8b8ce12c8852",
   "metadata": {},
   "source": [
    "Las estaciones en las que menos se desenganchan en **JUNIO de 2019** son:\n",
    "- 207: Calle de las Azucenas,1  \n",
    "- 28: Calle de Alcalá, 26\n",
    "- 183: Calle de Hermosilla, 135\n",
    "\n",
    "Las estaciones en las que menos se desenganchan en **JUNIO de 2020** son:\n",
    "- 210: Calle de las Tres Cruces, 135\n",
    "- 28: Calle de Alcalá, 26\n",
    "- 151: Calle de Orense, 10\n",
    "\n",
    "Las estaciones que menos se desenganchan coinciden con las que más se enganchan. Vemos que tan solo la estación 28 coincide en ambos años. \n",
    "\n",
    "Afirmamos que las estaciones menos utilizadas en junio de 2019 son 28 y 207 y en junio de 2020 son 28 y 151."
   ]
  },
  {
   "cell_type": "code",
   "execution_count": null,
   "id": "bbbb179b-fbf3-46d1-99e4-2beb43e542d9",
   "metadata": {},
   "outputs": [],
   "source": [
    "Tiempo de uso según el tipo de  usuario:"
   ]
  },
  {
   "cell_type": "code",
   "execution_count": 121,
   "id": "c8f23a44-56aa-4684-8a7b-1e9eb21963c2",
   "metadata": {},
   "outputs": [
    {
     "name": "stdout",
     "output_type": "stream",
     "text": [
      "- JUNIO 2019:\n",
      "+---------+----------------+\n",
      "|user_type|sum(travel_time)|\n",
      "+---------+----------------+\n",
      "|     null|            null|\n",
      "|        1|       349718610|\n",
      "|        3|        71729157|\n",
      "|        2|        11663511|\n",
      "+---------+----------------+\n",
      "\n",
      "- JUNIO 2O20:\n",
      "+---------+----------------+\n",
      "|user_type|sum(travel_time)|\n",
      "+---------+----------------+\n",
      "|        1|       229144789|\n",
      "|        3|        41602542|\n",
      "|        2|         5181881|\n",
      "+---------+----------------+\n",
      "\n"
     ]
    }
   ],
   "source": [
    "print ('- JUNIO 2019:')\n",
    "junio2019.groupBy('user_type').sum('travel_time').show()\n",
    "print ('- JUNIO 2O20:')\n",
    "junio2020.groupBy('user_type').sum('travel_time').show()"
   ]
  },
  {
   "cell_type": "markdown",
   "id": "958f34a4-da7f-4312-ab06-813424284ff6",
   "metadata": {},
   "source": [
    "El tipo de usuario que más tiempo utiliza el empleo es el 1. Después el 3 y finalmente el turista. Esto es consecuente con el número de trayectos de cada tipo de usuario."
   ]
  },
  {
   "cell_type": "markdown",
   "id": "13bde859-03cc-435d-8620-617e7787b19f",
   "metadata": {},
   "source": [
    "AHORA VAMOS A ANALIZAR EL MES DE JUNIO DE AÑO 2021 PARA OBSERVAR SI HUBO UN CRECIMIENTO DEL SERVICIO BICIMAD TRAS JUNIO DE 2020"
   ]
  },
  {
   "cell_type": "code",
   "execution_count": 143,
   "id": "7c0f8480-f6e1-46f6-893f-8a483016e008",
   "metadata": {},
   "outputs": [
    {
     "name": "stdout",
     "output_type": "stream",
     "text": [
      "- JUNIO 2021\n",
      "+--------------------+--------+-----------+--------------+-------------+----------------+-----------+--------------------+--------------------+---------+--------+\n",
      "|                 _id|ageRange|idplug_base|idplug_station|idunplug_base|idunplug_station|travel_time|     unplug_hourTime|       user_day_code|user_type|zip_code|\n",
      "+--------------------+--------+-----------+--------------+-------------+----------------+-----------+--------------------+--------------------+---------+--------+\n",
      "|{60bbf3f21b91311d...|       0|         15|            54|           13|              38|        319|2021-06-01T00:00:00Z|b67ea824acf706087...|        1|        |\n",
      "|{60bbf3f21b91311d...|       0|          7|           126|            1|             185|        386|2021-06-01T00:00:00Z|364b1b99f1f9a1748...|        1|        |\n",
      "|{60bbf3f21b91311d...|       0|         14|            91|           10|              15|        465|2021-06-01T00:00:00Z|5cc17031cba02835d...|        1|        |\n",
      "|{60bbf3f21b91311d...|       0|          8|           236|           22|              84|        613|2021-06-01T00:00:00Z|6e855acaaa17d6d14...|        1|        |\n",
      "|{60bbf3f21b91311d...|       5|          1|            94|            4|             131|        751|2021-06-01T00:00:00Z|e93417502d5520899...|        1|   28006|\n",
      "|{60bbf3f21b91311d...|       0|         23|           204|            2|             192|        508|2021-06-01T00:00:00Z|b3db5d2fef1ea149c...|        1|        |\n",
      "|{60bbf3f21b91311d...|       5|          1|            12|           19|              84|        726|2021-06-01T00:00:00Z|14191962ebd5a4b44...|        1|   28004|\n",
      "|{60bbf3f31b91311d...|       6|         23|           163|            1|             208|        536|2021-06-01T00:00:00Z|2786fa7033a6e0e9e...|        1|   28045|\n",
      "|{60bbf3f31b91311d...|       0|         15|           175|           20|              15|        397|2021-06-01T00:00:00Z|c5d58832c8f4cba6b...|        1|        |\n",
      "|{60bbf3f31b91311d...|       0|          5|           219|           16|             117|        516|2021-06-01T00:00:00Z|9d51c3d02145302d1...|        1|        |\n",
      "|{60bbf3f31b91311d...|       0|          4|           157|           16|             137|        697|2021-06-01T00:00:00Z|96b562e0105732677...|        1|        |\n",
      "|{60bbf3f31b91311d...|       0|         22|           216|           13|             207|       1054|2021-06-01T00:00:00Z|86440f33d7858cda8...|        1|        |\n",
      "|{60bbf3f31b91311d...|       0|          1|           189|            9|             103|        135|2021-06-01T00:00:00Z|68c1ae09ca219ff88...|        1|        |\n",
      "|{60bbf3f31b91311d...|       4|         23|           251|            2|              16|        874|2021-06-01T00:00:00Z|e6ee72e644cf0045e...|        1|   28028|\n",
      "|{60bbf3f31b91311d...|       4|         11|           176|           21|             149|       1031|2021-06-01T00:00:00Z|0cbcf21e9b9829684...|        1|   28045|\n",
      "|{60bbf3f31b91311d...|       0|          2|           242|           24|               5|       1007|2021-06-01T00:00:00Z|9e804e058bd1d4646...|        1|        |\n",
      "|{60bbf3f31b91311d...|       5|          2|             6|           15|             112|        328|2021-06-01T00:00:00Z|a9a5839c9b07a01fa...|        1|   28009|\n",
      "|{60bbf3f31b91311d...|       0|          5|           129|           23|              26|        641|2021-06-01T00:00:00Z|75cd4e56f393b623f...|        1|        |\n",
      "|{60bbf3f31b91311d...|       5|          5|           154|           21|             145|        223|2021-06-01T00:00:00Z|24e1ee5f27e73789d...|        1|   28007|\n",
      "|{60bbf3f31b91311d...|       3|          6|           120|            6|              41|        791|2021-06-01T00:00:00Z|233822d6669a98152...|        1|   28005|\n",
      "+--------------------+--------+-----------+--------------+-------------+----------------+-----------+--------------------+--------------------+---------+--------+\n",
      "only showing top 20 rows\n",
      "\n"
     ]
    },
    {
     "data": {
      "text/plain": [
       "413370"
      ]
     },
     "execution_count": 143,
     "metadata": {},
     "output_type": "execute_result"
    }
   ],
   "source": [
    "junio2021 = spark.read.json('202106.json')\n",
    "print ('- JUNIO 2021')\n",
    "junio2021.show()\n",
    "junio2021.count()"
   ]
  },
  {
   "cell_type": "code",
   "execution_count": 123,
   "id": "7b02136e-d085-4228-a6ac-e733c79cf27f",
   "metadata": {},
   "outputs": [
    {
     "name": "stdout",
     "output_type": "stream",
     "text": [
      "Número de viajes en 2021: 413370\n"
     ]
    }
   ],
   "source": [
    "print ('Número de viajes en 2021: ' + str(junio2021.count()))"
   ]
  },
  {
   "cell_type": "markdown",
   "id": "b0fbc14f-44d9-4dc8-9b7b-19c78001cf50",
   "metadata": {},
   "source": [
    "Vemos que el número de viajes es bastante más elevado que en 2020 pero no alcanza las cifras de 2019."
   ]
  },
  {
   "cell_type": "code",
   "execution_count": 124,
   "id": "d83744d2-f115-4028-b704-7afe109364f4",
   "metadata": {},
   "outputs": [
    {
     "name": "stdout",
     "output_type": "stream",
     "text": [
      "- JUNIO 2021:\n",
      "+---------+------+\n",
      "|user_type| count|\n",
      "+---------+------+\n",
      "|        6|  4847|\n",
      "|        1|391401|\n",
      "|        3| 15168|\n",
      "|        2|  1951|\n",
      "|        7|     3|\n",
      "+---------+------+\n",
      "\n"
     ]
    }
   ],
   "source": [
    "print ('- JUNIO 2021:')\n",
    "junio2021.groupBy('user_type').count().show()"
   ]
  },
  {
   "cell_type": "markdown",
   "id": "f39d5af6-85c6-4378-978d-9acaffd73660",
   "metadata": {},
   "source": [
    "El tipo de usuario más frecuente de nuevo es el abonado. Vemos que aparecen nuevos tipos de usuarios: el grupo 6 y 7 que no estaban en 2019 ni en 2020. "
   ]
  },
  {
   "cell_type": "code",
   "execution_count": 144,
   "id": "9d500282-03ff-41fe-97f8-4af1143ecfef",
   "metadata": {},
   "outputs": [
    {
     "name": "stdout",
     "output_type": "stream",
     "text": [
      "- JUNIO 2021:\n",
      "+--------+------+\n",
      "|ageRange| count|\n",
      "+--------+------+\n",
      "|       0|229807|\n",
      "|       6|  2052|\n",
      "|       5| 76926|\n",
      "|       1|  4789|\n",
      "|       3| 13208|\n",
      "|       2|  1138|\n",
      "|       4| 85450|\n",
      "+--------+------+\n",
      "\n"
     ]
    }
   ],
   "source": [
    "print ('- JUNIO 2021:')\n",
    "junio2021.groupBy('ageRange').count().show()"
   ]
  },
  {
   "cell_type": "markdown",
   "id": "25ff1c76-7ff3-4e95-bbc2-c415957f4cae",
   "metadata": {},
   "source": [
    "Vemos que de nuevo el grupo más frecuente es el 0 seguido del grupo 4."
   ]
  },
  {
   "cell_type": "code",
   "execution_count": 126,
   "id": "f5ebe8c4-7512-4b4c-9aa4-b08128a3f157",
   "metadata": {},
   "outputs": [],
   "source": [
    "idplug2021 = junio2021.groupBy('idplug_station').count()"
   ]
  },
  {
   "cell_type": "code",
   "execution_count": 130,
   "id": "ddf16809-8de4-4ae2-89bf-a4272d9ce344",
   "metadata": {},
   "outputs": [
    {
     "name": "stdout",
     "output_type": "stream",
     "text": [
      "- JUNIO 2021:\n",
      "+--------------+-----+\n",
      "|idplug_station|count|\n",
      "+--------------+-----+\n",
      "|            57| 4503|\n",
      "|            43| 4868|\n",
      "|           175| 3758|\n",
      "+--------------+-----+\n",
      "\n"
     ]
    }
   ],
   "source": [
    "print ('- JUNIO 2021:')\n",
    "idplug2021.filter(idplug2021['count']>3700).show()"
   ]
  },
  {
   "cell_type": "markdown",
   "id": "6c304f92-5116-42cf-a6b3-8216dac8cd37",
   "metadata": {},
   "source": [
    "Las estaciones que más se engachan bicicletas en **JUNIO de 2021** son:\n",
    "- 43: Calle de Lavapiés, 36\n",
    "- 57: Calle de Santa Cruz de Marcenado, 20\n",
    "- 175: Calle Jaime el Conquistador, 30"
   ]
  },
  {
   "cell_type": "code",
   "execution_count": 165,
   "id": "bf562d8a-8775-4f70-82f2-e14d1076ce6c",
   "metadata": {},
   "outputs": [
    {
     "name": "stdout",
     "output_type": "stream",
     "text": [
      "- JUNIO 2021:\n",
      "+----------------+-----+\n",
      "|idunplug_station|count|\n",
      "+----------------+-----+\n",
      "|              57| 4516|\n",
      "|              43| 4816|\n",
      "|             175| 3719|\n",
      "+----------------+-----+\n",
      "\n"
     ]
    }
   ],
   "source": [
    "idunplug2021 = junio2021.groupBy('idunplug_station').count()\n",
    "print ('- JUNIO 2021:')\n",
    "idunplug2021.filter(idunplug2021['count']>3700).show()"
   ]
  },
  {
   "cell_type": "markdown",
   "id": "58513f8f-3ede-4cbe-a333-4893825ad338",
   "metadata": {},
   "source": [
    "Las estaciones en las que más se desengachan bicicletas en **JUNIO de 2021** son:\n",
    "- 43: Calle de Lavapiés, 36\n",
    "- 57: Calle de Santa Cruz de Marcenado, 20\n",
    "- 175: Calle Jaime el Conquistador, 30\n",
    "\n",
    "La estación más utilizada en junio de 2021 es la 43."
   ]
  },
  {
   "cell_type": "code",
   "execution_count": 131,
   "id": "2347e530-d2ba-42cc-82cb-4980ee9921db",
   "metadata": {},
   "outputs": [],
   "source": [
    "idunplug2021 = junio2021.groupBy('idunplug_station').count()"
   ]
  },
  {
   "cell_type": "code",
   "execution_count": 136,
   "id": "7e6aee25-f94d-4d2d-9354-7b258309639a",
   "metadata": {},
   "outputs": [
    {
     "name": "stdout",
     "output_type": "stream",
     "text": [
      "- JUNIO 2021:\n",
      "+--------------+-----+\n",
      "|idplug_station|count|\n",
      "+--------------+-----+\n",
      "|           266|  225|\n",
      "|           257|  266|\n",
      "|            28|  301|\n",
      "|          2009|   18|\n",
      "|           225|  373|\n",
      "+--------------+-----+\n",
      "\n"
     ]
    }
   ],
   "source": [
    "print ('- JUNIO 2021:')\n",
    "idplug2021.filter(idplug2021['count']<400).show()"
   ]
  },
  {
   "cell_type": "markdown",
   "id": "52fbd762-1b93-4876-b7ad-abbc1750d79b",
   "metadata": {},
   "source": [
    "Las estaciones en las que menos se engachan bicicletas en **JUNIO de 2021** son:\n",
    "- 28: Calle de Alcalá, 26\n",
    "- 225: Calle de la Sierra Toledana, 33\n",
    "- 257: Avenida de Juan de Herrera, 1\n",
    "\n",
    "Las estaciones 266 y 2009 no se encuentran en el archivo excel, ya que sólo tenemos 261 estaciones. A causa de esto, no podemos dar una ubicación exacta de dicha estación.\n",
    "Puede ser un error de recogida o transcripción de datos."
   ]
  },
  {
   "cell_type": "code",
   "execution_count": 138,
   "id": "7d10cdce-758a-4302-b4c6-62d8543ac755",
   "metadata": {},
   "outputs": [
    {
     "name": "stdout",
     "output_type": "stream",
     "text": [
      "- JUNIO 2021:\n",
      "+----------------+-----+\n",
      "|idunplug_station|count|\n",
      "+----------------+-----+\n",
      "|             266|  222|\n",
      "|              28|  311|\n",
      "|             257|  333|\n",
      "|             225|  394|\n",
      "|            2009|   22|\n",
      "+----------------+-----+\n",
      "\n"
     ]
    }
   ],
   "source": [
    "print ('- JUNIO 2021:')\n",
    "idunplug2021.filter(idunplug2021['count']<400).show()"
   ]
  },
  {
   "cell_type": "markdown",
   "id": "34a5cafe-5f3b-4784-94e1-87aefeadf6d6",
   "metadata": {},
   "source": [
    "Las estaciones en las que menos se desengachan bicicletas en **JUNIO de 2021** son:\n",
    "- 28: Calle de Alcalá, 26\n",
    "- 225: Calle de la Sierra Toledana, 33\n",
    "- 257: Avenida de Juan de Herrera, 1\n",
    "\n",
    "Las estaciones 266 y 2009 no se encuentran en el archivo excel, ya que sólo tenemos 261 estaciones. A causa de esto, no podemos dar una ubicación exacta de dicha estación.\n",
    "Puede ser un error de recogida o transcripción de datos.\n",
    "\n",
    "Las estaciones menos utilizadas en junio de 2021 son la 28 y la 257."
   ]
  },
  {
   "cell_type": "code",
   "execution_count": 147,
   "id": "8667f884-89a6-4cf8-bc81-b46688edfb8c",
   "metadata": {},
   "outputs": [
    {
     "name": "stdout",
     "output_type": "stream",
     "text": [
      "- JUNIO 2021:\n",
      "+---------+----------------+\n",
      "|user_type|sum(travel_time)|\n",
      "+---------+----------------+\n",
      "|        6|         8913375|\n",
      "|        1|       377692250|\n",
      "|        3|        35204394|\n",
      "|        2|         4561006|\n",
      "|        7|            3673|\n",
      "+---------+----------------+\n",
      "\n"
     ]
    }
   ],
   "source": [
    "print ('- JUNIO 2021:')\n",
    "junio2021.groupBy('user_type').sum('travel_time').show()"
   ]
  },
  {
   "cell_type": "markdown",
   "id": "a64bd517-22aa-4f8e-b6eb-e07d5c44b81c",
   "metadata": {},
   "source": [
    "De nuevo el usuario que más tiempo de viaje tiene es el tipo 1, el abonado."
   ]
  },
  {
   "cell_type": "markdown",
   "id": "65fa12b3-6316-46a8-bf0f-96f0fcad6bdd",
   "metadata": {},
   "source": [
    "AHORA ANALIZAMOS EL MES DE DICIEMBRE DE 2018 Y 2020 (2021 AUN NO HAY DATOS y 2019 el conjunto de datos es diferente)"
   ]
  },
  {
   "cell_type": "code",
   "execution_count": 148,
   "id": "b3733f5b-f285-4a0a-8226-30f60e6c4597",
   "metadata": {},
   "outputs": [
    {
     "name": "stderr",
     "output_type": "stream",
     "text": [
      "                                                                                \r"
     ]
    },
    {
     "name": "stdout",
     "output_type": "stream",
     "text": [
      "- DICIEMBRE 2018\n",
      "+---------------+--------------------+--------+-----------+--------------+-------------+----------------+--------------------+-----------+--------------------+--------------------+---------+--------+\n",
      "|_corrupt_record|                 _id|ageRange|idplug_base|idplug_station|idunplug_base|idunplug_station|               track|travel_time|     unplug_hourTime|       user_day_code|user_type|zip_code|\n",
      "+---------------+--------------------+--------+-----------+--------------+-------------+----------------+--------------------+-----------+--------------------+--------------------+---------+--------+\n",
      "|           null|{5c085aae2f384324...|       5|          7|            75|            7|              75|                null|         16|{2018-12-01T00:00...|39d847f3af0e9d8ab...|        3|        |\n",
      "|           null|{5c085aae2f384324...|       4|         19|           128|           14|              57|{[{{[-3.6949683, ...|        262|{2018-12-01T00:00...|697479f320b109464...|        1|   28045|\n",
      "|           null|{5c085aae2f384324...|       0|         22|            77|           17|              90|                null|        325|{2018-12-01T00:00...|f71720d1858187177...|        1|        |\n",
      "|           null|{5c085aae2f384324...|       3|         20|           175|            2|              60|{[{{[-3.7176263, ...|        386|{2018-12-01T00:00...|d0999b551f278b8ba...|        1|   28020|\n",
      "|           null|{5c085aae2f384324...|       0|         15|           129|           11|              46|                null|        259|{2018-12-01T00:00...|ee183a2c78afb6908...|        1|        |\n",
      "|           null|{5c085aae2f384324...|       0|         11|           106|           19|              97|{[{{[-3.6710348, ...|        404|{2018-12-01T00:00...|1adfb74226024aced...|        1|        |\n",
      "|           null|{5c085aae2f384324...|       0|         14|            57|            6|              49|{[{{[-3.7008751, ...|        383|{2018-12-01T00:00...|b70dd3f9a3c39cec5...|        1|        |\n",
      "|           null|{5c085aae2f384324...|       5|          5|           161|            1|             164|                null|        210|{2018-12-01T00:00...|7ce7060652979b6ab...|        1|   28010|\n",
      "|           null|{5c085aaf2f384324...|       5|         21|           100|           19|               8|                null|        334|{2018-12-01T00:00...|80f7c6a6bd5e5fe94...|        1|   28014|\n",
      "|           null|{5c085aaf2f384324...|       5|         22|            31|            8|              42|{[{{[-3.697279599...|        546|{2018-12-01T00:00...|7ba839625c43d881a...|        1|        |\n",
      "|           null|{5c085aaf2f384324...|       0|         23|            31|            2|              42|{[{{[-3.6957586, ...|        538|{2018-12-01T00:00...|7954de50f63f104b7...|        1|        |\n",
      "|           null|{5c085aaf2f384324...|       0|         15|            59|            7|             109|                null|        623|{2018-12-01T00:00...|468d92bf111fd335d...|        1|        |\n",
      "|           null|{5c085aaf2f384324...|       3|         16|           169|            9|              19|{[{{[-3.699521999...|        383|{2018-12-01T00:00...|e42b54c51517083bc...|        1|   28010|\n",
      "|           null|{5c085aaf2f384324...|       4|          6|            53|           13|              54|                null|        466|{2018-12-01T00:00...|30f9fc07d12d381e5...|        1|   28012|\n",
      "|           null|{5c085aaf2f384324...|       4|         24|           164|           14|             117|{[{{[-3.7023361, ...|        589|{2018-12-01T00:00...|fc7aded4ff15221f9...|        1|   28010|\n",
      "|           null|{5c085aaf2f384324...|       0|          5|           160|           26|               6|                null|        410|{2018-12-01T00:00...|b4424aa03eca2d9d2...|        1|        |\n",
      "|           null|{5c085aaf2f384324...|       5|         23|           129|           16|               1|{[{{[-3.6968298, ...|        477|{2018-12-01T00:00...|b58349605308ba0cc...|        1|   28045|\n",
      "|           null|{5c085aaf2f384324...|       0|          3|           129|           19|              54|{[{{[-3.6974068, ...|        206|{2018-12-01T00:00...|200ceb7d67cbbb650...|        1|        |\n",
      "|           null|{5c085aaf2f384324...|       5|         14|            57|           20|              40|{[{{[-3.7006326, ...|        405|{2018-12-01T00:00...|2888a83a2c07f26e4...|        1|   28012|\n",
      "|           null|{5c085aaf2f384324...|       5|         17|            60|            6|               8|{[{{[-3.7025206, ...|        412|{2018-12-01T00:00...|4b86a0822587d709c...|        1|   28004|\n",
      "+---------------+--------------------+--------+-----------+--------------+-------------+----------------+--------------------+-----------+--------------------+--------------------+---------+--------+\n",
      "only showing top 20 rows\n",
      "\n"
     ]
    },
    {
     "data": {
      "text/plain": [
       "273272"
      ]
     },
     "execution_count": 148,
     "metadata": {},
     "output_type": "execute_result"
    }
   ],
   "source": [
    "dic2018 = spark.read.json('201812.json')\n",
    "print ('- DICIEMBRE 2018')\n",
    "dic2018.show()\n",
    "dic2018.count()"
   ]
  },
  {
   "cell_type": "code",
   "execution_count": 65,
   "id": "1f570aec-6b1c-40c1-9abe-32230729af37",
   "metadata": {},
   "outputs": [
    {
     "name": "stdout",
     "output_type": "stream",
     "text": [
      "- DICIEMBRE 2020\n",
      "+--------------------+--------+-----------+--------------+-------------+----------------+-----------+--------------------+--------------------+---------+--------+\n",
      "|                 _id|ageRange|idplug_base|idplug_station|idunplug_base|idunplug_station|travel_time|     unplug_hourTime|       user_day_code|user_type|zip_code|\n",
      "+--------------------+--------+-----------+--------------+-------------+----------------+-----------+--------------------+--------------------+---------+--------+\n",
      "|{5fcc10fc1b91315b...|       4|         16|           182|            8|              71|        337|2020-12-01T00:00:00Z|1b9453cb0a60d9826...|        1|   28012|\n",
      "|{5fcc10fc1b91315b...|       0|         19|            18|            1|              35|        190|2020-12-01T00:00:00Z|29fe8cf0fb57fdfc4...|        1|        |\n",
      "|{5fcc10fc1b91315b...|       4|         14|           175|           21|              46|        354|2020-12-01T00:00:00Z|051f14e387dd8f544...|        1|   28012|\n",
      "|{5fcc10fc1b91315b...|       0|         19|            57|            8|              58|        554|2020-12-01T00:00:00Z|22027cf06c0f88ce8...|        1|        |\n",
      "|{5fcc10fc1b91315b...|       4|         23|           170|            2|              57|        774|2020-12-01T00:00:00Z|fd0e999b7061ad83e...|        1|   28004|\n",
      "|{5fcc10fc1b91315b...|       0|          8|             4|           15|             104|        921|2020-12-01T00:00:00Z|3775182f8dddbfc45...|        1|        |\n",
      "|{5fcc10fc1b91315b...|       5|          4|           134|           19|              54|        233|2020-12-01T00:00:00Z|5b25dfe29e1d63478...|        1|   28015|\n",
      "|{5fcc10fc1b91315b...|       0|          1|           136|           21|              58|       1020|2020-12-01T00:00:00Z|247ec427204a64b9c...|        1|        |\n",
      "|{5fcc10fc1b91315b...|       4|         20|            89|           11|             145|       1209|2020-12-01T00:00:00Z|253b39c1c7c37a35c...|        1|   28007|\n",
      "|{5fcc10fc1b91315b...|       3|          6|           225|           10|             215|        544|2020-12-01T00:00:00Z|3130c738536edae56...|        1|        |\n",
      "|{5fcc10fc1b91315b...|       4|         12|            21|           15|             142|        874|2020-12-01T00:00:00Z|4753a5930442456f4...|        1|   28022|\n",
      "|{5fcc10fc1b91315b...|       0|         20|            44|           17|             118|        619|2020-12-01T00:00:00Z|42ea52fd504690dd8...|        1|        |\n",
      "|{5fcc10fc1b91315b...|       0|         28|            21|            1|              58|        315|2020-12-01T00:00:00Z|a91a38ca979857e32...|        1|        |\n",
      "|{5fcc10fc1b91315b...|       0|         17|           193|            5|               6|       1072|2020-12-01T00:00:00Z|98ed7403f43cc9f6a...|        1|        |\n",
      "|{5fcc10fc1b91315b...|       4|         13|            27|           15|             224|       9149|2020-12-01T00:00:00Z|7918bee76ca4166b1...|        3|        |\n",
      "|{5fcc10fc1b91315b...|       4|         15|            27|           10|             224|       9240|2020-12-01T00:00:00Z|7918bee76ca4166b1...|        3|        |\n",
      "|{5fcc10fc1b91315b...|       4|         23|            27|            8|             224|       9366|2020-12-01T00:00:00Z|7918bee76ca4166b1...|        3|        |\n",
      "|{5fcc10fc1b91315b...|       4|         21|            27|           11|             224|       9286|2020-12-01T00:00:00Z|7918bee76ca4166b1...|        3|        |\n",
      "|{5fcc10fc1b91315b...|       4|         19|            27|           21|             220|      10121|2020-12-01T00:00:00Z|7918bee76ca4166b1...|        3|        |\n",
      "|{5fcc10fc1b91315b...|       4|          6|            27|           23|             220|      10291|2020-12-01T00:00:00Z|7918bee76ca4166b1...|        3|        |\n",
      "+--------------------+--------+-----------+--------------+-------------+----------------+-----------+--------------------+--------------------+---------+--------+\n",
      "only showing top 20 rows\n",
      "\n"
     ]
    },
    {
     "data": {
      "text/plain": [
       "265261"
      ]
     },
     "execution_count": 65,
     "metadata": {},
     "output_type": "execute_result"
    }
   ],
   "source": [
    "dic2020 = spark.read.json('202012.json')\n",
    "print ('- DICIEMBRE 2020')\n",
    "dic2020.show()\n",
    "dic2020.count()"
   ]
  },
  {
   "cell_type": "code",
   "execution_count": 66,
   "id": "ad67b640-4d68-496c-9cd0-b7461f0979f4",
   "metadata": {},
   "outputs": [
    {
     "name": "stdout",
     "output_type": "stream",
     "text": [
      "Número de viajes en 2018: 67166\n",
      "Número de viajes en 2020: 265261\n"
     ]
    }
   ],
   "source": [
    "print ('Número de viajes en 2018: ' + str(dic2018.count()))\n",
    "print ('Número de viajes en 2020: ' + str(dic2020.count()))"
   ]
  },
  {
   "cell_type": "markdown",
   "id": "d248e136-3a3c-404f-9456-8f948134c626",
   "metadata": {},
   "source": [
    "A la vista de los resultados obtenidos observamos que el número de viajes en diciembre de 2018 es muy inferior a los viajes de 2020, lo cual nos llama bastante la atención puesto que anteriormente vimos que en junio de 2020 el número de viajes era bastante inferior a los de 2019. Esto puede deberse a que tras el confinamiento, muchos usuarios decidieron prescindir del transporte público debido al acumulamineto de gente y el temor a contagiarse. \n",
    "\n",
    "Vemos también que el número de usuarios en diciembre de 2020 es superior al número de usuarios en junio de 2020. Teniendo en cuenta que el servicio BICIMAD en los meses más fríos del año es menos utilizado es llamativo que en el año 2020 sea al revés. Esto es debido también al COVID-19. En el mes de junio muchos trabajadores todavía trabajaban desde casa y los turistas internacionales no podían visitar la ciudad. En cambio, en el mes de diciembre, al mejorar las condiciones sanitarias, algunos trabajadores se reincorporaron a sus puestos de trabajo y eligieron el transporte con BICIMAD al llevarse a cabo al aire libre."
   ]
  },
  {
   "cell_type": "code",
   "execution_count": 149,
   "id": "fad1db36-b169-4eb2-b494-02c2147b8d59",
   "metadata": {},
   "outputs": [
    {
     "name": "stdout",
     "output_type": "stream",
     "text": [
      "- DICIEMBRE 2018:\n"
     ]
    },
    {
     "name": "stderr",
     "output_type": "stream",
     "text": [
      "                                                                                \r"
     ]
    },
    {
     "name": "stdout",
     "output_type": "stream",
     "text": [
      "+---------+------+\n",
      "|user_type| count|\n",
      "+---------+------+\n",
      "|     null| 43605|\n",
      "|        1|208055|\n",
      "|        3| 18939|\n",
      "|        2|  2673|\n",
      "+---------+------+\n",
      "\n",
      "- DICIEMBRE 2020:\n",
      "+---------+------+\n",
      "|user_type| count|\n",
      "+---------+------+\n",
      "|        6|  1345|\n",
      "|        1|255154|\n",
      "|        3|  8314|\n",
      "|        2|   446|\n",
      "|        7|     2|\n",
      "+---------+------+\n",
      "\n"
     ]
    }
   ],
   "source": [
    "print ('- DICIEMBRE 2018:')\n",
    "dic2018.groupBy('user_type').count().show()\n",
    "print ('- DICIEMBRE 2020:')\n",
    "dic2020.groupBy('user_type').count().show()"
   ]
  },
  {
   "cell_type": "markdown",
   "id": "4805d65c-455c-4ca6-9517-05665ea17c23",
   "metadata": {},
   "source": [
    "El usuario más frecuente, como en casos anteriores es el abonado. En cuanto a los turistas, podemos observar que, a pesar de que en 2020 hubo más trayectos, estos se llevaron a cabo por menos turistas que en diciembre de 2018 por las restricciones sanitarias nombradas anteriormente."
   ]
  },
  {
   "cell_type": "code",
   "execution_count": 68,
   "id": "b36b5e18-e1dc-4d17-a0d2-bff027230f29",
   "metadata": {},
   "outputs": [
    {
     "name": "stdout",
     "output_type": "stream",
     "text": [
      "- DICIEMBRE 2018:\n",
      "+--------+-----+\n",
      "|ageRange|count|\n",
      "+--------+-----+\n",
      "|       0|24172|\n",
      "|    null| 9749|\n",
      "|       6|  230|\n",
      "|       5|12045|\n",
      "|       1|  762|\n",
      "|       3| 3135|\n",
      "|       2|  590|\n",
      "|       4|16483|\n",
      "+--------+-----+\n",
      "\n",
      "- DICIEMBRE 2020:\n",
      "+--------+------+\n",
      "|ageRange| count|\n",
      "+--------+------+\n",
      "|       0|144033|\n",
      "|       6|  1310|\n",
      "|       5| 49799|\n",
      "|       1|  2221|\n",
      "|       3| 10573|\n",
      "|       2|  1046|\n",
      "|       4| 56279|\n",
      "+--------+------+\n",
      "\n"
     ]
    }
   ],
   "source": [
    "print ('- DICIEMBRE 2018:')\n",
    "dic2018.groupBy('ageRange').count().show()\n",
    "print ('- DICIEMBRE 2020:')\n",
    "dic2020.groupBy('ageRange').count().show()"
   ]
  },
  {
   "cell_type": "markdown",
   "id": "a93b3db2-b214-4396-a35e-fcee6c33f0dd",
   "metadata": {},
   "source": [
    "El grupo de edad más predominante es nuevamente el grupo 4."
   ]
  },
  {
   "cell_type": "code",
   "execution_count": 73,
   "id": "295b9083-3a0e-43ee-a83d-2191b02ab002",
   "metadata": {},
   "outputs": [],
   "source": [
    "idplug2018 = dic2018.groupBy('idplug_station').count()\n",
    "idplug_2020 = dic2020.groupBy('idplug_station').count()"
   ]
  },
  {
   "cell_type": "code",
   "execution_count": 154,
   "id": "1c1a2224-f19a-46b6-a6f1-437e677c6a05",
   "metadata": {},
   "outputs": [
    {
     "name": "stdout",
     "output_type": "stream",
     "text": [
      "- DICIEMBRE 2018:\n",
      "+--------------+-----+\n",
      "|idplug_station|count|\n",
      "+--------------+-----+\n",
      "|          null| 9749|\n",
      "|           175|  944|\n",
      "|           163|  889|\n",
      "|           135|  882|\n",
      "+--------------+-----+\n",
      "\n",
      "- DICIEMBRE 2020:\n",
      "+--------------+-----+\n",
      "|idplug_station|count|\n",
      "+--------------+-----+\n",
      "|            57| 3251|\n",
      "|            43| 3260|\n",
      "|            46| 2890|\n",
      "+--------------+-----+\n",
      "\n"
     ]
    }
   ],
   "source": [
    "print ('- DICIEMBRE 2018:')\n",
    "idplug2018.filter(idplug2018['count']>880).show()\n",
    "print ('- DICIEMBRE 2020:')\n",
    "idplug_2020.filter(idplug_2020['count']>2800).show()"
   ]
  },
  {
   "cell_type": "markdown",
   "id": "7ebacc09-4c8e-4c12-ba26-f382cfd20698",
   "metadata": {},
   "source": [
    "Las estaciones en las que más se engachan bicicletas en **DICIEMBRE de 2018** son:\n",
    "- 175: Calle Jaime el Conquistador, 30\n",
    "- 163: Paseo de la Esperanza, 83\n",
    "- 135: Plaza de San Juan de la Cruz\n",
    "\n",
    "Las estaciones en las que más se engachan bicicletas en **DICIEMBRE de 2020** son:\n",
    "- 43: Calle de Lavapiés, 36\n",
    "- 46: Calle de la Ribera de Curtidores, 28\n",
    "- 57: Calle de Santa Cruz de Marcenado, 20\n"
   ]
  },
  {
   "cell_type": "code",
   "execution_count": 157,
   "id": "a551986c-412d-4ee8-9141-e1c17552c6b8",
   "metadata": {},
   "outputs": [],
   "source": [
    "idunplug2018 = dic2018.groupBy('idplug_station').count()\n",
    "idunplug_2020 = dic2020.groupBy('idplug_station').count()"
   ]
  },
  {
   "cell_type": "code",
   "execution_count": 164,
   "id": "5fff584a-4c8e-43fd-83ab-478e9a53fa84",
   "metadata": {},
   "outputs": [
    {
     "name": "stdout",
     "output_type": "stream",
     "text": [
      "- DICIEMBRE 2018:\n",
      "+--------------+-----+\n",
      "|idplug_station|count|\n",
      "+--------------+-----+\n",
      "|            43| 3488|\n",
      "|          null|43605|\n",
      "|           175| 3408|\n",
      "|           135| 3425|\n",
      "|           129| 3457|\n",
      "+--------------+-----+\n",
      "\n",
      "- DICIEMBRE 2020:\n",
      "+--------------+-----+\n",
      "|idplug_station|count|\n",
      "+--------------+-----+\n",
      "|            57| 3251|\n",
      "|            43| 3260|\n",
      "|            46| 2890|\n",
      "+--------------+-----+\n",
      "\n"
     ]
    }
   ],
   "source": [
    "print ('- DICIEMBRE 2018:')\n",
    "idunplug2018.filter(idunplug2018['count']>3300).show()\n",
    "print ('- DICIEMBRE 2020:')\n",
    "idunplug_2020.filter(idunplug_2020['count']>2800).show()"
   ]
  },
  {
   "cell_type": "markdown",
   "id": "7a32ed64-3972-44cb-8aea-b1437a0b8971",
   "metadata": {},
   "source": [
    "Las estaciones en las que más se desengachan bicicletas en **DICIEMBRE de 2018** son:\n",
    "- 175: Calle Jaime el Conquistador, 30\n",
    "- 43: Calle de Lavapiés, 36\n",
    "- 135: Plaza de San Juan de la Cruz\n",
    "\n",
    "Las estaciones en las que más se desengachan bicicletas en **DICIEMBRE de 2020** son:\n",
    "- 43: Calle de Lavapiés, 36\n",
    "- 46: Calle de la Ribera de Curtidores, 28\n",
    "- 57: Calle de Santa Cruz de Marcenado, 20\n",
    "\n",
    "Las estaciones más utilizadas en diciembre de 2018 son 175 y 135 y en diciembre de 2020 son 43 y 57."
   ]
  },
  {
   "cell_type": "code",
   "execution_count": 158,
   "id": "45dfaeb8-ebb4-4247-804a-1ef59b5f406a",
   "metadata": {},
   "outputs": [
    {
     "name": "stdout",
     "output_type": "stream",
     "text": [
      "- DICIEMBRE 2018:\n",
      "+--------------+-----+\n",
      "|idplug_station|count|\n",
      "+--------------+-----+\n",
      "|           119|   99|\n",
      "|            29|    4|\n",
      "|            28|    1|\n",
      "+--------------+-----+\n",
      "\n",
      "- DICIEMBRE 2020:\n",
      "+--------------+-----+\n",
      "|idplug_station|count|\n",
      "+--------------+-----+\n",
      "|          2008|    2|\n",
      "|          3000|    1|\n",
      "|           262|   11|\n",
      "|           266|    2|\n",
      "|           257|    6|\n",
      "|           249|    5|\n",
      "|           265|    2|\n",
      "|           256|   11|\n",
      "|           263|    9|\n",
      "+--------------+-----+\n",
      "\n"
     ]
    }
   ],
   "source": [
    "print ('- DICIEMBRE 2018:')\n",
    "idplug2018.filter(idplug2018['count']<100).show()\n",
    "print ('- DICIEMBRE 2020:')\n",
    "idplug_2020.filter(idplug_2020['count']<12).show()"
   ]
  },
  {
   "cell_type": "markdown",
   "id": "eda3bac0-2044-40a9-8a94-f48c4a561a08",
   "metadata": {},
   "source": [
    "Las estaciones en las que menos se engachan bicicletas en **DICIEMBRE de 2018** son:\n",
    "- 28: Calle de Alcalá, 26\n",
    "- 119: Calle de Méndez Álvaro, 7\n",
    "- 29: Calle del Marqués de Cubas, 25\n",
    "\n",
    "Las estaciones en las que menos se engachan bicicletas en **DICIEMBRE de 2020** son:\n",
    "- 257: Avenida de Juan de Herrera, 1\n",
    "- 249: Paseo de la Castellana, 298\n",
    "- 256: Calle de Beatriz de Bobadilla, 2\n",
    "\n",
    "Las estaciones 266, 262, 265, 263, 3000 y 2008 no se encuentran en el archivo excel, ya que sólo tenemos 261 estaciones. A causa de esto, no podemos dar una ubicación exacta de dicha estación. Puede ser un error de recogida o transcripción de datos."
   ]
  },
  {
   "cell_type": "code",
   "execution_count": 93,
   "id": "37d2d7fc-55a7-404e-9d2f-17a911df3c15",
   "metadata": {},
   "outputs": [
    {
     "name": "stdout",
     "output_type": "stream",
     "text": [
      "- DICIEMBRE 2018:\n",
      "+----------------+-----+\n",
      "|idunplug_station|count|\n",
      "+----------------+-----+\n",
      "|             119|  101|\n",
      "|             120|  109|\n",
      "|              29|    4|\n",
      "|              28|    1|\n",
      "+----------------+-----+\n",
      "\n",
      "- DICIEMBRE 2020:\n",
      "+----------------+-----+\n",
      "|idunplug_station|count|\n",
      "+----------------+-----+\n",
      "|            2008|    3|\n",
      "|             266|    5|\n",
      "|             257|    5|\n",
      "|             249|   12|\n",
      "|             265|    3|\n",
      "|             256|   13|\n",
      "|             263|    7|\n",
      "+----------------+-----+\n",
      "\n"
     ]
    }
   ],
   "source": [
    "print ('- DICIEMBRE 2018:')\n",
    "idunplug2018.filter(idunplug2018['count']<110).show()\n",
    "print ('- DICIEMBRE 2020:')\n",
    "idunplug_2020.filter(idunplug_2020['count']<15).show()"
   ]
  },
  {
   "cell_type": "markdown",
   "id": "21e254a2-840e-4c17-b42c-f332b87f0802",
   "metadata": {},
   "source": [
    "Las estaciones en las que más se desengachan bicicletas en **DICIEMBRE de 2018** son:\n",
    "- 28: Calle de Alcalá, 26\n",
    "- 119: Calle de Méndez Álvaro, 7\n",
    "- 29: Calle del Marqués de Cubas, 25\n",
    "\n",
    "Las estaciones en las que más se desengachan bicicletas en **DICIEMBRE de 2020** son:\n",
    "- 257: Avenida de Juan de Herrera, 1\n",
    "- 249: Paseo de la Castellana, 298\n",
    "- 256: Calle de Beatriz de Bobadilla, 2\n",
    "\n",
    "Las estaciones 266, 265, 263 y 2008 no se encuentran en el archivo excel, ya que sólo tenemos 261 estaciones. A causa de esto, no podemos dar una ubicación exacta de dicha estación. Puede ser un error de recogida o transcripción de datos.\n",
    "\n",
    "Las estaciones menos utilizadas en diciembre de 2018 son 28 y 29 y en diciembre de 2020 257 y 249."
   ]
  },
  {
   "cell_type": "code",
   "execution_count": 86,
   "id": "cea63f4e-11ed-483d-be13-cac347a1111e",
   "metadata": {},
   "outputs": [
    {
     "name": "stdout",
     "output_type": "stream",
     "text": [
      "- DICIEMBRE 2018:\n",
      "+---------+----------------+\n",
      "|user_type|sum(travel_time)|\n",
      "+---------+----------------+\n",
      "|     null|            null|\n",
      "|        1|        44432571|\n",
      "|        3|        15689694|\n",
      "|        2|          977117|\n",
      "+---------+----------------+\n",
      "\n",
      "- DICIEMBRE 2020:\n",
      "+---------+----------------+\n",
      "|user_type|sum(travel_time)|\n",
      "+---------+----------------+\n",
      "|        6|         2554998|\n",
      "|        1|       248406442|\n",
      "|        3|        22508413|\n",
      "|        2|         1092048|\n",
      "|        7|             869|\n",
      "+---------+----------------+\n",
      "\n"
     ]
    }
   ],
   "source": [
    "print ('- DICIEMBRE 2018:')\n",
    "dic2018.groupBy('user_type').sum('travel_time').show()\n",
    "print ('- DICIEMBRE 2020:')\n",
    "dic2020.groupBy('user_type').sum('travel_time').show()"
   ]
  },
  {
   "cell_type": "markdown",
   "id": "06a78f3f-c508-44e7-9ac8-401479d0d2bd",
   "metadata": {},
   "source": [
    "Llama la atención que el tiempo de trayecto del tipo 2 \"turista\" sea superior en diciembre de 2020 que en 2018 puesto que en 2020 el número de trayectos efectuados por turistas ya hemos vistos que fueron muy inferior. Esto indica que, aunque fueron menos turistas, hicieron recorridos muchos más largos prescindiendo del transporte público."
   ]
  },
  {
   "cell_type": "markdown",
   "id": "02fc1b90-7d21-4e6b-b460-a2956ed0f909",
   "metadata": {},
   "source": [
    "# CONCLUSIONES\n",
    "Tras analizar los datos hemos observado que, debido a la pandemia provocada del COVID-19, en junio de 2020 se redujeron considerablemente los viajes en el servicio de BICIMAD frente a junio de 2019. En junio de 2021, los datos mejoraron sin llegar a alcanzar las cifras de 2019. Cabe destacar que el número de usuarios de tipo \"turista\" en el año 2021 fue mucho menor que en el año 2019. \n",
    "\n",
    "Las estaciones de BICIMAD más utilizadas en junio de 2019 fueron la 175 y la 163, en junio de 2020 la 43 y 175 y en junio de 2021 la 43. Las menos utilizadas fueron en 2019 la 28 y la 207, en 2020 la 28 y la 151, y en 2021 la 28 y 257. \n",
    "\n",
    "Analizando las cifras del mes de diciembre de los años 2018 y 2020 nos llama la atención que, a pesar de ser un mes frío y tras un periodo de confinamiento en el que el teletrabajo y los ERTES predominaron, el número de trayectos fue mucho más elevado en 2020 que en 2018. En cuanto a los turistas, podemos observar que, a pesar de que en 2020 hubo más trayectos, estos se llevaron a cabo por menos turistas que en diciembre de 2018 por las restricciones sanitarias que impedían el turismo internacional y de algunas comunidades autónomas. \n",
    "\n",
    "Las estaciones más utilizadas en diciembre de 2018 fueron la 175 y 135, y las menos utilizadas 28 y 29. En diciembre de 2020 en cambio, las más utilizadas fueron 43 y 57 y las menos 257 y 249."
   ]
  }
 ],
 "metadata": {
  "kernelspec": {
   "display_name": "Python 3 (ipykernel)",
   "language": "python",
   "name": "python3"
  },
  "language_info": {
   "codemirror_mode": {
    "name": "ipython",
    "version": 3
   },
   "file_extension": ".py",
   "mimetype": "text/x-python",
   "name": "python",
   "nbconvert_exporter": "python",
   "pygments_lexer": "ipython3",
   "version": "3.7.3"
  }
 },
 "nbformat": 4,
 "nbformat_minor": 5
}
